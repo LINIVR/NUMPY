{
 "cells": [
  {
   "cell_type": "code",
   "execution_count": 1,
   "id": "c83e8b55-b1c1-4024-bb41-ad08b3e86eee",
   "metadata": {},
   "outputs": [],
   "source": [
    "import math"
   ]
  },
  {
   "cell_type": "code",
   "execution_count": 2,
   "id": "c0edcf3d-caf9-4736-a54e-058c3ec5e00e",
   "metadata": {},
   "outputs": [
    {
     "data": {
      "text/plain": [
       "3.141592653589793"
      ]
     },
     "execution_count": 2,
     "metadata": {},
     "output_type": "execute_result"
    }
   ],
   "source": [
    "math.pi"
   ]
  },
  {
   "cell_type": "code",
   "execution_count": 3,
   "id": "518f2fb8-bc79-4cf2-917d-b527e8d2f9d2",
   "metadata": {},
   "outputs": [
    {
     "data": {
      "text/plain": [
       "2.0"
      ]
     },
     "execution_count": 3,
     "metadata": {},
     "output_type": "execute_result"
    }
   ],
   "source": [
    "math.sqrt(4)"
   ]
  },
  {
   "cell_type": "code",
   "execution_count": 4,
   "id": "4ee6f4c5-bc4e-4826-a3c6-3c2b91e36080",
   "metadata": {},
   "outputs": [
    {
     "data": {
      "text/plain": [
       "3"
      ]
     },
     "execution_count": 4,
     "metadata": {},
     "output_type": "execute_result"
    }
   ],
   "source": [
    "math.ceil(2.1) #rounds a decimal number up to the nearest integer"
   ]
  },
  {
   "cell_type": "code",
   "execution_count": 5,
   "id": "b063bb09-c6ab-4f7a-94d3-864b6a7faed7",
   "metadata": {},
   "outputs": [
    {
     "data": {
      "text/plain": [
       "2"
      ]
     },
     "execution_count": 5,
     "metadata": {},
     "output_type": "execute_result"
    }
   ],
   "source": [
    "math.floor(2.9) # rounds a decimal number down to the nearest integer"
   ]
  },
  {
   "cell_type": "code",
   "execution_count": 6,
   "id": "751aa499-cc0a-4d9d-8058-8b688774d907",
   "metadata": {},
   "outputs": [],
   "source": [
    "from math import pi"
   ]
  },
  {
   "cell_type": "code",
   "execution_count": 7,
   "id": "27febebb-4cd3-4035-9628-31ca22782dfd",
   "metadata": {},
   "outputs": [
    {
     "data": {
      "text/plain": [
       "3.141592653589793"
      ]
     },
     "execution_count": 7,
     "metadata": {},
     "output_type": "execute_result"
    }
   ],
   "source": [
    "pi"
   ]
  },
  {
   "cell_type": "code",
   "execution_count": 8,
   "id": "6db60a57-6703-44b3-b328-e4a117db206b",
   "metadata": {},
   "outputs": [],
   "source": [
    "list1=[8,9,7,5,4]\n",
    "list2=[5,7,3,6,1]"
   ]
  },
  {
   "cell_type": "code",
   "execution_count": 9,
   "id": "1267224e-3e75-4924-bf3e-a562387f89c2",
   "metadata": {},
   "outputs": [
    {
     "data": {
      "text/plain": [
       "[13, 16, 10, 11, 5]"
      ]
     },
     "execution_count": 9,
     "metadata": {},
     "output_type": "execute_result"
    }
   ],
   "source": [
    "sum_list=[]\n",
    "for num1,num2 in zip(list1,list2):\n",
    "    sum_list.append(num1+num2)\n",
    "sum_list\n",
    "    "
   ]
  },
  {
   "cell_type": "code",
   "execution_count": 10,
   "id": "b598b292-5a04-4201-8262-5ef191f16396",
   "metadata": {},
   "outputs": [],
   "source": [
    "import numpy as np\n",
    "arr1=np.array(list1)\n",
    "arr2=np.array(list2)"
   ]
  },
  {
   "cell_type": "code",
   "execution_count": 11,
   "id": "550dd891-bac8-4479-b125-4d8f3927182b",
   "metadata": {},
   "outputs": [
    {
     "data": {
      "text/plain": [
       "array([13, 16, 10, 11,  5])"
      ]
     },
     "execution_count": 11,
     "metadata": {},
     "output_type": "execute_result"
    }
   ],
   "source": [
    "sum_arr=arr1+arr2\n",
    "sum_arr"
   ]
  },
  {
   "cell_type": "code",
   "execution_count": 12,
   "id": "c9c64abe-5c9c-4074-9c4a-edb1fb184ff8",
   "metadata": {},
   "outputs": [
    {
     "data": {
      "text/plain": [
       "[21.85171572722109, 25.262188208616784, 35.16425408156521, 27.102623456790127]"
      ]
     },
     "execution_count": 12,
     "metadata": {},
     "output_type": "execute_result"
    }
   ],
   "source": [
    "height=[1.73,1.68,1.23,1.44]\n",
    "weight=[65.4,71.3,53.2,56.2]\n",
    "#bmi=weight/height**2\n",
    "bmi_list=[]\n",
    "for i,j in zip(weight,height):\n",
    "  bmi_list.append(i/j**2)\n",
    "bmi_list"
   ]
  },
  {
   "cell_type": "code",
   "execution_count": 13,
   "id": "81787972-afc3-4c0f-b3d7-d04c6134acc6",
   "metadata": {},
   "outputs": [
    {
     "data": {
      "text/plain": [
       "array([21.85171573, 25.26218821, 35.16425408, 27.10262346])"
      ]
     },
     "execution_count": 13,
     "metadata": {},
     "output_type": "execute_result"
    }
   ],
   "source": [
    "arr_h=np.array(height)\n",
    "arr_w=np.array(weight)\n",
    "bmi_arr=arr_w/arr_h**2\n",
    "bmi_arr\n"
   ]
  },
  {
   "cell_type": "code",
   "execution_count": 20,
   "id": "5c375a24-b975-4f48-b4b3-1e5e09901feb",
   "metadata": {},
   "outputs": [],
   "source": [
    "list1=[1,\"Hi\",True,6,\"WelcometoBrototype\",7]"
   ]
  },
  {
   "cell_type": "code",
   "execution_count": 21,
   "id": "111f7240-777f-4fa7-9075-7670877b53d3",
   "metadata": {},
   "outputs": [],
   "source": [
    "arr1=np.array(list1)"
   ]
  },
  {
   "cell_type": "code",
   "execution_count": 22,
   "id": "45e66319-c160-41af-8112-3bd417d740d3",
   "metadata": {},
   "outputs": [
    {
     "data": {
      "text/plain": [
       "array(['1', 'Hi', 'True', '6', 'WelcometoBrototype', '7'], dtype='<U18')"
      ]
     },
     "execution_count": 22,
     "metadata": {},
     "output_type": "execute_result"
    }
   ],
   "source": [
    "arr1\n"
   ]
  },
  {
   "cell_type": "code",
   "execution_count": 23,
   "id": "7a2d1e10-02bf-4730-823b-266ca66e81cf",
   "metadata": {},
   "outputs": [],
   "source": [
    "arr1=np.array([1,2,3,4,5])"
   ]
  },
  {
   "cell_type": "code",
   "execution_count": 24,
   "id": "6a7f9ae8-3947-48bf-b1f2-8a2d3b235632",
   "metadata": {},
   "outputs": [
    {
     "data": {
      "text/plain": [
       "1"
      ]
     },
     "execution_count": 24,
     "metadata": {},
     "output_type": "execute_result"
    }
   ],
   "source": [
    "arr1.ndim#dimension of the array"
   ]
  },
  {
   "cell_type": "code",
   "execution_count": 25,
   "id": "0f04400d-1835-4e0d-9d96-8abeb7ef4486",
   "metadata": {},
   "outputs": [
    {
     "data": {
      "text/plain": [
       "dtype('int32')"
      ]
     },
     "execution_count": 25,
     "metadata": {},
     "output_type": "execute_result"
    }
   ],
   "source": [
    "arr1.dtype #datatype of the array"
   ]
  },
  {
   "cell_type": "code",
   "execution_count": 26,
   "id": "9c566e38-3c04-4f6f-84b4-379f58583da2",
   "metadata": {},
   "outputs": [
    {
     "data": {
      "text/plain": [
       "numpy.ndarray"
      ]
     },
     "execution_count": 26,
     "metadata": {},
     "output_type": "execute_result"
    }
   ],
   "source": [
    "type(arr1)"
   ]
  },
  {
   "cell_type": "code",
   "execution_count": 28,
   "id": "85d6dfdf-d31a-4a69-9e89-4962b089283f",
   "metadata": {},
   "outputs": [],
   "source": [
    "arr2=np.array([[1,2,3],[4,5,6]])"
   ]
  },
  {
   "cell_type": "code",
   "execution_count": 31,
   "id": "6f798d68-da7a-4955-b25f-c2a487a0af57",
   "metadata": {},
   "outputs": [
    {
     "data": {
      "text/plain": [
       "array([[1, 2, 3],\n",
       "       [4, 5, 6]])"
      ]
     },
     "execution_count": 31,
     "metadata": {},
     "output_type": "execute_result"
    }
   ],
   "source": [
    "arr2"
   ]
  },
  {
   "cell_type": "code",
   "execution_count": 29,
   "id": "98476d11-91ca-4638-a353-f0171e73a99d",
   "metadata": {},
   "outputs": [
    {
     "data": {
      "text/plain": [
       "dtype('int32')"
      ]
     },
     "execution_count": 29,
     "metadata": {},
     "output_type": "execute_result"
    }
   ],
   "source": [
    "arr2.dtype"
   ]
  },
  {
   "cell_type": "code",
   "execution_count": 30,
   "id": "bea288dc-63a1-42e4-8180-028dba0541f7",
   "metadata": {},
   "outputs": [
    {
     "data": {
      "text/plain": [
       "numpy.ndarray"
      ]
     },
     "execution_count": 30,
     "metadata": {},
     "output_type": "execute_result"
    }
   ],
   "source": [
    "type(arr2)"
   ]
  },
  {
   "cell_type": "code",
   "execution_count": 32,
   "id": "342c4b36-ab05-4f2d-bd26-eb5a2abae863",
   "metadata": {},
   "outputs": [
    {
     "data": {
      "text/plain": [
       "2"
      ]
     },
     "execution_count": 32,
     "metadata": {},
     "output_type": "execute_result"
    }
   ],
   "source": [
    "arr2.ndim"
   ]
  },
  {
   "cell_type": "code",
   "execution_count": 33,
   "id": "004b1198-35e8-4055-8e71-133599bcecf5",
   "metadata": {},
   "outputs": [
    {
     "data": {
      "text/plain": [
       "(2, 3)"
      ]
     },
     "execution_count": 33,
     "metadata": {},
     "output_type": "execute_result"
    }
   ],
   "source": [
    "arr2.shape"
   ]
  },
  {
   "cell_type": "code",
   "execution_count": 35,
   "id": "b7479c39-381a-4be4-ab72-16eb4d4c6857",
   "metadata": {},
   "outputs": [
    {
     "name": "stdout",
     "output_type": "stream",
     "text": [
      "[1, 2, 3, 4, 5, 6, 7, 8, 9, 10]\n"
     ]
    }
   ],
   "source": [
    "print(list(range(1,11)))"
   ]
  },
  {
   "cell_type": "code",
   "execution_count": 36,
   "id": "571a83e3-f684-4fb7-a15f-81fe70dc37e8",
   "metadata": {},
   "outputs": [
    {
     "data": {
      "text/plain": [
       "array([ 4,  5,  6,  7,  8,  9, 10, 11, 12, 13, 14, 15, 16, 17, 18, 19])"
      ]
     },
     "execution_count": 36,
     "metadata": {},
     "output_type": "execute_result"
    }
   ],
   "source": [
    "arr3=np.arange(4,20)\n",
    "arr3"
   ]
  },
  {
   "cell_type": "code",
   "execution_count": 37,
   "id": "169e7e0a-2379-41f9-908a-94728060f861",
   "metadata": {},
   "outputs": [
    {
     "data": {
      "text/plain": [
       "array([[ 4,  5,  6,  7],\n",
       "       [ 8,  9, 10, 11],\n",
       "       [12, 13, 14, 15],\n",
       "       [16, 17, 18, 19]])"
      ]
     },
     "execution_count": 37,
     "metadata": {},
     "output_type": "execute_result"
    }
   ],
   "source": [
    "arr3.reshape(4,4)"
   ]
  },
  {
   "cell_type": "code",
   "execution_count": 38,
   "id": "5e336276-70b9-407b-8e62-66ff4ac22e39",
   "metadata": {},
   "outputs": [
    {
     "data": {
      "text/plain": [
       "array([[ 4,  5,  6,  7,  8,  9, 10, 11],\n",
       "       [12, 13, 14, 15, 16, 17, 18, 19]])"
      ]
     },
     "execution_count": 38,
     "metadata": {},
     "output_type": "execute_result"
    }
   ],
   "source": [
    "arr3.reshape(2,8)"
   ]
  },
  {
   "cell_type": "code",
   "execution_count": 39,
   "id": "8ceedf63-ecba-42a8-9944-e6f6f1414c83",
   "metadata": {},
   "outputs": [
    {
     "data": {
      "text/plain": [
       "array([[ 4,  5],\n",
       "       [ 6,  7],\n",
       "       [ 8,  9],\n",
       "       [10, 11],\n",
       "       [12, 13],\n",
       "       [14, 15],\n",
       "       [16, 17],\n",
       "       [18, 19]])"
      ]
     },
     "execution_count": 39,
     "metadata": {},
     "output_type": "execute_result"
    }
   ],
   "source": [
    "arr3.reshape(8,2)"
   ]
  },
  {
   "cell_type": "code",
   "execution_count": 40,
   "id": "ab0e0616-b9c7-40d4-8d3d-efb9bfb0fd01",
   "metadata": {},
   "outputs": [
    {
     "data": {
      "text/plain": [
       "array([ 0,  1,  2,  3,  4,  5,  6,  7,  8,  9, 10, 11, 12, 13, 14, 15])"
      ]
     },
     "execution_count": 40,
     "metadata": {},
     "output_type": "execute_result"
    }
   ],
   "source": [
    "#Array Slicing\n",
    "arr4=np.arange(16)\n",
    "arr4"
   ]
  },
  {
   "cell_type": "code",
   "execution_count": 42,
   "id": "c2656c00-5dd9-4d7a-931c-1fc0ddf100c6",
   "metadata": {},
   "outputs": [
    {
     "data": {
      "text/plain": [
       "5"
      ]
     },
     "execution_count": 42,
     "metadata": {},
     "output_type": "execute_result"
    }
   ],
   "source": [
    "arr4[5]"
   ]
  },
  {
   "cell_type": "code",
   "execution_count": 46,
   "id": "92fdba72-d5bd-4d29-bdbf-32c00d95addc",
   "metadata": {},
   "outputs": [
    {
     "data": {
      "text/plain": [
       "array([ 5,  6,  7,  8,  9, 10])"
      ]
     },
     "execution_count": 46,
     "metadata": {},
     "output_type": "execute_result"
    }
   ],
   "source": [
    "arr4[5:11]"
   ]
  },
  {
   "cell_type": "code",
   "execution_count": 47,
   "id": "aa1c71ae-ad79-4173-bc28-01af70e8d66d",
   "metadata": {},
   "outputs": [
    {
     "data": {
      "text/plain": [
       "array([0, 1, 2, 3, 4, 5, 6, 7, 8, 9])"
      ]
     },
     "execution_count": 47,
     "metadata": {},
     "output_type": "execute_result"
    }
   ],
   "source": [
    "arr4[:10]"
   ]
  },
  {
   "cell_type": "code",
   "execution_count": 48,
   "id": "41ae2d98-ad74-4d49-9c2f-c157ceb89806",
   "metadata": {},
   "outputs": [
    {
     "data": {
      "text/plain": [
       "array([10, 11, 12, 13, 14, 15])"
      ]
     },
     "execution_count": 48,
     "metadata": {},
     "output_type": "execute_result"
    }
   ],
   "source": [
    "arr4[10:]"
   ]
  },
  {
   "cell_type": "code",
   "execution_count": 49,
   "id": "f5a3d845-38fb-4f1c-859c-21668118914e",
   "metadata": {},
   "outputs": [
    {
     "data": {
      "text/plain": [
       "array([ 2,  9, 12])"
      ]
     },
     "execution_count": 49,
     "metadata": {},
     "output_type": "execute_result"
    }
   ],
   "source": [
    "#2,9,12\n",
    "arr4[[2,9,12]]"
   ]
  },
  {
   "cell_type": "code",
   "execution_count": 50,
   "id": "8c19b79c-4274-4672-9bdc-dfc6e1415d3f",
   "metadata": {},
   "outputs": [],
   "source": [
    "arr5=np.array([[7,8,9,12],[5,6,8,9],[7,8,9,1]])"
   ]
  },
  {
   "cell_type": "code",
   "execution_count": 51,
   "id": "4ae2c029-fe30-4ffd-931f-2ac580cfb112",
   "metadata": {},
   "outputs": [
    {
     "data": {
      "text/plain": [
       "2"
      ]
     },
     "execution_count": 51,
     "metadata": {},
     "output_type": "execute_result"
    }
   ],
   "source": [
    "arr5.ndim"
   ]
  },
  {
   "cell_type": "code",
   "execution_count": 52,
   "id": "e21e1f15-c53c-4c4d-88f6-0d355a19f0a0",
   "metadata": {},
   "outputs": [
    {
     "data": {
      "text/plain": [
       "(3, 4)"
      ]
     },
     "execution_count": 52,
     "metadata": {},
     "output_type": "execute_result"
    }
   ],
   "source": [
    "arr5.shape"
   ]
  },
  {
   "cell_type": "code",
   "execution_count": 53,
   "id": "52fd6e37-300c-493c-b183-3f24994a78ee",
   "metadata": {},
   "outputs": [
    {
     "data": {
      "text/plain": [
       "array([7, 8, 9, 1])"
      ]
     },
     "execution_count": 53,
     "metadata": {},
     "output_type": "execute_result"
    }
   ],
   "source": [
    "arr5[2] #print the 2nd row "
   ]
  },
  {
   "cell_type": "code",
   "execution_count": 54,
   "id": "696e2553-5c40-43b7-83e7-89222e6cac62",
   "metadata": {},
   "outputs": [
    {
     "data": {
      "text/plain": [
       "array([[ 7,  8,  9, 12],\n",
       "       [ 5,  6,  8,  9],\n",
       "       [ 7,  8,  9,  1]])"
      ]
     },
     "execution_count": 54,
     "metadata": {},
     "output_type": "execute_result"
    }
   ],
   "source": [
    "arr5"
   ]
  },
  {
   "cell_type": "code",
   "execution_count": 55,
   "id": "d9e6af0c-214f-4891-8766-a4cdfff4d5c0",
   "metadata": {},
   "outputs": [
    {
     "data": {
      "text/plain": [
       "8"
      ]
     },
     "execution_count": 55,
     "metadata": {},
     "output_type": "execute_result"
    }
   ],
   "source": [
    "arr5[2,1]"
   ]
  },
  {
   "cell_type": "code",
   "execution_count": 56,
   "id": "e2513c41-2ee0-414d-bb4d-934faff86c9f",
   "metadata": {},
   "outputs": [
    {
     "data": {
      "text/plain": [
       "array([9, 8, 9])"
      ]
     },
     "execution_count": 56,
     "metadata": {},
     "output_type": "execute_result"
    }
   ],
   "source": [
    "arr5[:,2] #All rows of column2"
   ]
  },
  {
   "cell_type": "code",
   "execution_count": 57,
   "id": "b5be04dc-9a8c-4e4e-a764-a2c0c10cddb2",
   "metadata": {},
   "outputs": [
    {
     "data": {
      "text/plain": [
       "array([8, 6, 8])"
      ]
     },
     "execution_count": 57,
     "metadata": {},
     "output_type": "execute_result"
    }
   ],
   "source": [
    "arr5[:,1]# all rows of 1st column"
   ]
  },
  {
   "cell_type": "code",
   "execution_count": 58,
   "id": "33983d76-3963-4ed1-9e23-9bc89c3c608b",
   "metadata": {},
   "outputs": [
    {
     "data": {
      "text/plain": [
       "array([5, 6, 8, 9])"
      ]
     },
     "execution_count": 58,
     "metadata": {},
     "output_type": "execute_result"
    }
   ],
   "source": [
    "arr5[1,:] # All columns of 1st row"
   ]
  },
  {
   "cell_type": "code",
   "execution_count": 59,
   "id": "b236efc9-3460-45c6-982d-6681ba7f468b",
   "metadata": {},
   "outputs": [],
   "source": [
    "arr6=np.arange(10,82,2)"
   ]
  },
  {
   "cell_type": "code",
   "execution_count": 60,
   "id": "bb212677-b495-4aa9-8592-bb91915e43d9",
   "metadata": {},
   "outputs": [
    {
     "data": {
      "text/plain": [
       "array([10, 12, 14, 16, 18, 20, 22, 24, 26, 28, 30, 32, 34, 36, 38, 40, 42,\n",
       "       44, 46, 48, 50, 52, 54, 56, 58, 60, 62, 64, 66, 68, 70, 72, 74, 76,\n",
       "       78, 80])"
      ]
     },
     "execution_count": 60,
     "metadata": {},
     "output_type": "execute_result"
    }
   ],
   "source": [
    "arr6"
   ]
  },
  {
   "cell_type": "code",
   "execution_count": 64,
   "id": "a3025b44-00a7-4c75-8022-4f34781cdc91",
   "metadata": {},
   "outputs": [],
   "source": [
    "arr6=np.arange(10,82,2).reshape(6,6)"
   ]
  },
  {
   "cell_type": "code",
   "execution_count": 65,
   "id": "97fa28b6-66fd-4171-8a21-d2b392604aa4",
   "metadata": {},
   "outputs": [
    {
     "data": {
      "text/plain": [
       "array([[10, 12, 14, 16, 18, 20],\n",
       "       [22, 24, 26, 28, 30, 32],\n",
       "       [34, 36, 38, 40, 42, 44],\n",
       "       [46, 48, 50, 52, 54, 56],\n",
       "       [58, 60, 62, 64, 66, 68],\n",
       "       [70, 72, 74, 76, 78, 80]])"
      ]
     },
     "execution_count": 65,
     "metadata": {},
     "output_type": "execute_result"
    }
   ],
   "source": [
    "arr6"
   ]
  },
  {
   "cell_type": "code",
   "execution_count": 67,
   "id": "45448393-8fd4-4e71-abd2-beda0e726b33",
   "metadata": {},
   "outputs": [
    {
     "data": {
      "text/plain": [
       "array([46, 48, 50, 52, 54, 56])"
      ]
     },
     "execution_count": 67,
     "metadata": {},
     "output_type": "execute_result"
    }
   ],
   "source": [
    "arr6[3]"
   ]
  },
  {
   "cell_type": "code",
   "execution_count": 68,
   "id": "fe4ffc12-f152-494b-a9b2-8dcefcc6764b",
   "metadata": {},
   "outputs": [
    {
     "data": {
      "text/plain": [
       "array([[10, 12, 14, 16, 18, 20],\n",
       "       [22, 24, 26, 28, 30, 32],\n",
       "       [34, 36, 38, 40, 42, 44]])"
      ]
     },
     "execution_count": 68,
     "metadata": {},
     "output_type": "execute_result"
    }
   ],
   "source": [
    "arr6[:3]\n",
    "#from 0th row to 2nd row"
   ]
  },
  {
   "cell_type": "code",
   "execution_count": 69,
   "id": "d11da854-36c4-4aa7-88db-e06487422b17",
   "metadata": {},
   "outputs": [
    {
     "data": {
      "text/plain": [
       "array([16, 28, 40, 52, 64, 76])"
      ]
     },
     "execution_count": 69,
     "metadata": {},
     "output_type": "execute_result"
    }
   ],
   "source": [
    "arr6[:,3]"
   ]
  },
  {
   "cell_type": "code",
   "execution_count": 71,
   "id": "43771dd9-1b22-4cba-aebc-f2144bbe79bd",
   "metadata": {},
   "outputs": [
    {
     "data": {
      "text/plain": [
       "array([[10, 16],\n",
       "       [22, 28],\n",
       "       [34, 40],\n",
       "       [46, 52],\n",
       "       [58, 64],\n",
       "       [70, 76]])"
      ]
     },
     "execution_count": 71,
     "metadata": {},
     "output_type": "execute_result"
    }
   ],
   "source": [
    "arr6[:,[0,3]]# all rows of 0th column and 3rd column"
   ]
  },
  {
   "cell_type": "code",
   "execution_count": 73,
   "id": "4fd6e80e-9044-4423-a8ba-057f6ce75419",
   "metadata": {},
   "outputs": [
    {
     "data": {
      "text/plain": [
       "array([[10, 12, 14],\n",
       "       [22, 24, 26],\n",
       "       [34, 36, 38],\n",
       "       [46, 48, 50],\n",
       "       [58, 60, 62],\n",
       "       [70, 72, 74]])"
      ]
     },
     "execution_count": 73,
     "metadata": {},
     "output_type": "execute_result"
    }
   ],
   "source": [
    "arr6[:,0:3] #All rows of 0th column to 2nd column"
   ]
  },
  {
   "cell_type": "code",
   "execution_count": 74,
   "id": "7bc813a3-e9ca-4dbc-8e63-b37d69c80e74",
   "metadata": {},
   "outputs": [
    {
     "data": {
      "text/plain": [
       "array([[24, 26],\n",
       "       [36, 38]])"
      ]
     },
     "execution_count": 74,
     "metadata": {},
     "output_type": "execute_result"
    }
   ],
   "source": [
    "arr6[1:3,1:3] #1st row and 2nd row of 1st and 2nd column"
   ]
  },
  {
   "cell_type": "code",
   "execution_count": 75,
   "id": "38a81e31-b235-4ad0-9610-8513c48954fd",
   "metadata": {},
   "outputs": [
    {
     "data": {
      "text/plain": [
       "array([[ 7,  8,  9, 12],\n",
       "       [ 5,  6,  8,  9],\n",
       "       [ 7,  8,  9,  1]])"
      ]
     },
     "execution_count": 75,
     "metadata": {},
     "output_type": "execute_result"
    }
   ],
   "source": [
    "arr5"
   ]
  },
  {
   "cell_type": "code",
   "execution_count": 76,
   "id": "150b991a-479e-42a5-9c8b-027c96b2bc94",
   "metadata": {},
   "outputs": [
    {
     "data": {
      "text/plain": [
       "89"
      ]
     },
     "execution_count": 76,
     "metadata": {},
     "output_type": "execute_result"
    }
   ],
   "source": [
    "arr5.sum()"
   ]
  },
  {
   "cell_type": "code",
   "execution_count": 77,
   "id": "981d2c19-5666-40eb-896a-c873b577d617",
   "metadata": {},
   "outputs": [
    {
     "data": {
      "text/plain": [
       "89"
      ]
     },
     "execution_count": 77,
     "metadata": {},
     "output_type": "execute_result"
    }
   ],
   "source": [
    "np.sum(arr5)"
   ]
  },
  {
   "cell_type": "code",
   "execution_count": 78,
   "id": "d8d8b4f7-89f0-4035-bc06-2a419722a877",
   "metadata": {},
   "outputs": [
    {
     "data": {
      "text/plain": [
       "7.416666666666667"
      ]
     },
     "execution_count": 78,
     "metadata": {},
     "output_type": "execute_result"
    }
   ],
   "source": [
    "arr5.mean()"
   ]
  },
  {
   "cell_type": "code",
   "execution_count": 79,
   "id": "1aabbaef-38f5-4470-89f4-fa3bc5f7e477",
   "metadata": {},
   "outputs": [
    {
     "data": {
      "text/plain": [
       "7.416666666666667"
      ]
     },
     "execution_count": 79,
     "metadata": {},
     "output_type": "execute_result"
    }
   ],
   "source": [
    "np.mean(arr5)"
   ]
  },
  {
   "cell_type": "code",
   "execution_count": 82,
   "id": "75367ade-e3a2-4d53-8b1b-81437acd94b5",
   "metadata": {},
   "outputs": [
    {
     "data": {
      "text/plain": [
       "8.0"
      ]
     },
     "execution_count": 82,
     "metadata": {},
     "output_type": "execute_result"
    }
   ],
   "source": [
    "np.median(arr5)"
   ]
  },
  {
   "cell_type": "code",
   "execution_count": 83,
   "id": "f637dc3a-28b3-4372-9b76-b6a6157d8eee",
   "metadata": {},
   "outputs": [
    {
     "data": {
      "text/plain": [
       "array([9.  , 7.  , 6.25])"
      ]
     },
     "execution_count": 83,
     "metadata": {},
     "output_type": "execute_result"
    }
   ],
   "source": [
    "arr5.mean(axis=1) #row wise mean"
   ]
  },
  {
   "cell_type": "code",
   "execution_count": 84,
   "id": "695d9f9e-5e7d-44f5-bc7e-af54dab737cf",
   "metadata": {},
   "outputs": [
    {
     "data": {
      "text/plain": [
       "array([6.33333333, 7.33333333, 8.66666667, 7.33333333])"
      ]
     },
     "execution_count": 84,
     "metadata": {},
     "output_type": "execute_result"
    }
   ],
   "source": [
    "arr5.mean(axis=0) #column wise mean"
   ]
  },
  {
   "cell_type": "code",
   "execution_count": 85,
   "id": "8f0529cb-87d7-401e-b099-733c3e4b66ef",
   "metadata": {},
   "outputs": [
    {
     "data": {
      "text/plain": [
       "array([36, 28, 25])"
      ]
     },
     "execution_count": 85,
     "metadata": {},
     "output_type": "execute_result"
    }
   ],
   "source": [
    "arr5.sum(axis=1)#row wise sum"
   ]
  },
  {
   "cell_type": "code",
   "execution_count": 86,
   "id": "830ef6bc-22ef-463a-984f-f540f1f89b15",
   "metadata": {},
   "outputs": [
    {
     "data": {
      "text/plain": [
       "array([36, 28, 25])"
      ]
     },
     "execution_count": 86,
     "metadata": {},
     "output_type": "execute_result"
    }
   ],
   "source": [
    "np.sum(arr5,axis=1)"
   ]
  },
  {
   "cell_type": "code",
   "execution_count": 87,
   "id": "1ecc5738-d399-4d92-86a0-c7f1bd4d9a7c",
   "metadata": {},
   "outputs": [
    {
     "data": {
      "text/plain": [
       "array([19, 22, 26, 22])"
      ]
     },
     "execution_count": 87,
     "metadata": {},
     "output_type": "execute_result"
    }
   ],
   "source": [
    "np.sum(arr5,axis=0)"
   ]
  },
  {
   "cell_type": "code",
   "execution_count": 88,
   "id": "c4e7504a-f2fa-466a-abe7-9f7bdb535589",
   "metadata": {},
   "outputs": [
    {
     "data": {
      "text/plain": [
       "array([19, 22, 26, 22])"
      ]
     },
     "execution_count": 88,
     "metadata": {},
     "output_type": "execute_result"
    }
   ],
   "source": [
    "arr5.sum(0) #columnwise sum"
   ]
  },
  {
   "cell_type": "code",
   "execution_count": 89,
   "id": "3aa2776e-98be-46e0-b8a2-fff3926e01e9",
   "metadata": {},
   "outputs": [
    {
     "data": {
      "text/plain": [
       "array([36, 28, 25])"
      ]
     },
     "execution_count": 89,
     "metadata": {},
     "output_type": "execute_result"
    }
   ],
   "source": [
    "arr5.sum(1) #ROWWISE SUM"
   ]
  },
  {
   "cell_type": "code",
   "execution_count": 90,
   "id": "eb8203f3-a436-4439-a9b4-5a1c0ed55c13",
   "metadata": {},
   "outputs": [
    {
     "data": {
      "text/plain": [
       "array([[12, 13, 14, 17],\n",
       "       [10, 11, 13, 14],\n",
       "       [12, 13, 14,  6]])"
      ]
     },
     "execution_count": 90,
     "metadata": {},
     "output_type": "execute_result"
    }
   ],
   "source": [
    "arr5+5 #scalar operations"
   ]
  },
  {
   "cell_type": "code",
   "execution_count": 91,
   "id": "25805470-08aa-460f-9684-2d086c7c0e25",
   "metadata": {},
   "outputs": [
    {
     "data": {
      "text/plain": [
       "array([[35, 40, 45, 60],\n",
       "       [25, 30, 40, 45],\n",
       "       [35, 40, 45,  5]])"
      ]
     },
     "execution_count": 91,
     "metadata": {},
     "output_type": "execute_result"
    }
   ],
   "source": [
    "arr5*5"
   ]
  },
  {
   "cell_type": "code",
   "execution_count": 92,
   "id": "c44c9d61-c893-435d-b903-abff1c847460",
   "metadata": {},
   "outputs": [],
   "source": [
    "arr5[2]=-9"
   ]
  },
  {
   "cell_type": "code",
   "execution_count": 93,
   "id": "dd7ec967-2572-4fa6-8d89-9ee29a4b69de",
   "metadata": {},
   "outputs": [
    {
     "data": {
      "text/plain": [
       "array([[ 7,  8,  9, 12],\n",
       "       [ 5,  6,  8,  9],\n",
       "       [-9, -9, -9, -9]])"
      ]
     },
     "execution_count": 93,
     "metadata": {},
     "output_type": "execute_result"
    }
   ],
   "source": [
    "arr5"
   ]
  },
  {
   "cell_type": "code",
   "execution_count": 94,
   "id": "957b2e45-85a3-4ffe-a02c-0eb58f88252d",
   "metadata": {},
   "outputs": [
    {
     "data": {
      "text/plain": [
       "array([[ 7,  8,  9, 12],\n",
       "       [ 5,  6,  8,  9],\n",
       "       [ 9,  9,  9,  9]])"
      ]
     },
     "execution_count": 94,
     "metadata": {},
     "output_type": "execute_result"
    }
   ],
   "source": [
    "np.abs(arr5)"
   ]
  },
  {
   "cell_type": "code",
   "execution_count": 95,
   "id": "3b58d37e-fd67-4554-832b-28791061f103",
   "metadata": {},
   "outputs": [
    {
     "name": "stderr",
     "output_type": "stream",
     "text": [
      "C:\\Users\\vrlin\\AppData\\Local\\Temp\\ipykernel_9768\\2987985467.py:1: RuntimeWarning: invalid value encountered in sqrt\n",
      "  np.sqrt(arr5)\n"
     ]
    },
    {
     "data": {
      "text/plain": [
       "array([[2.64575131, 2.82842712, 3.        , 3.46410162],\n",
       "       [2.23606798, 2.44948974, 2.82842712, 3.        ],\n",
       "       [       nan,        nan,        nan,        nan]])"
      ]
     },
     "execution_count": 95,
     "metadata": {},
     "output_type": "execute_result"
    }
   ],
   "source": [
    "np.sqrt(arr5)\n"
   ]
  },
  {
   "cell_type": "code",
   "execution_count": 97,
   "id": "3c6c74ed-9c30-4f7b-9e7c-d0f7e7541e55",
   "metadata": {},
   "outputs": [
    {
     "data": {
      "text/plain": [
       "array([[0., 0., 0., 0., 0.],\n",
       "       [0., 0., 0., 0., 0.],\n",
       "       [0., 0., 0., 0., 0.],\n",
       "       [0., 0., 0., 0., 0.],\n",
       "       [0., 0., 0., 0., 0.]])"
      ]
     },
     "execution_count": 97,
     "metadata": {},
     "output_type": "execute_result"
    }
   ],
   "source": [
    "np.zeros((5,5))"
   ]
  },
  {
   "cell_type": "code",
   "execution_count": 104,
   "id": "febdea06-97d3-4f6c-8e2f-2ae0cb59999a",
   "metadata": {},
   "outputs": [
    {
     "data": {
      "text/plain": [
       "array([[1., 1., 1.],\n",
       "       [1., 1., 1.],\n",
       "       [1., 1., 1.],\n",
       "       [1., 1., 1.],\n",
       "       [1., 1., 1.]])"
      ]
     },
     "execution_count": 104,
     "metadata": {},
     "output_type": "execute_result"
    }
   ],
   "source": [
    "np.ones((5,3))"
   ]
  },
  {
   "cell_type": "code",
   "execution_count": 103,
   "id": "2d299ed7-f89f-45b9-8770-46a9aecd2fba",
   "metadata": {},
   "outputs": [
    {
     "data": {
      "text/plain": [
       "array([[1., 0., 0., 0.],\n",
       "       [0., 1., 0., 0.],\n",
       "       [0., 0., 1., 0.],\n",
       "       [0., 0., 0., 1.]])"
      ]
     },
     "execution_count": 103,
     "metadata": {},
     "output_type": "execute_result"
    }
   ],
   "source": [
    "np.eye(4)#identity matrix"
   ]
  },
  {
   "cell_type": "code",
   "execution_count": 101,
   "id": "dcfbca3d-14f9-42cf-bba8-2a9719dafdb8",
   "metadata": {},
   "outputs": [
    {
     "data": {
      "text/plain": [
       "array([[10, 12, 14, 16, 18, 20],\n",
       "       [22, 24, 26, 28, 30, 32],\n",
       "       [34, 36, 38, 40, 42, 44],\n",
       "       [46, 48, 50, 52, 54, 56],\n",
       "       [58, 60, 62, 64, 66, 68],\n",
       "       [70, 72, 74, 76, 78, 80]])"
      ]
     },
     "execution_count": 101,
     "metadata": {},
     "output_type": "execute_result"
    }
   ],
   "source": [
    "arr6\n"
   ]
  },
  {
   "cell_type": "code",
   "execution_count": 102,
   "id": "02802ebf-915d-42b6-a28a-7db482a0333f",
   "metadata": {},
   "outputs": [
    {
     "data": {
      "text/plain": [
       "array([[10, 22, 34, 46, 58, 70],\n",
       "       [12, 24, 36, 48, 60, 72],\n",
       "       [14, 26, 38, 50, 62, 74],\n",
       "       [16, 28, 40, 52, 64, 76],\n",
       "       [18, 30, 42, 54, 66, 78],\n",
       "       [20, 32, 44, 56, 68, 80]])"
      ]
     },
     "execution_count": 102,
     "metadata": {},
     "output_type": "execute_result"
    }
   ],
   "source": [
    "arr6.T"
   ]
  },
  {
   "cell_type": "code",
   "execution_count": 2,
   "id": "eb9982e1-4767-44a3-b516-bed14737b2f0",
   "metadata": {},
   "outputs": [],
   "source": [
    "import numpy as np"
   ]
  },
  {
   "cell_type": "code",
   "execution_count": 4,
   "id": "a7b70202-bbe2-405a-9d6d-044ad00c1223",
   "metadata": {},
   "outputs": [],
   "source": [
    "data=np.array([21,3,13,14,15])\n"
   ]
  },
  {
   "cell_type": "code",
   "execution_count": 5,
   "id": "0b3cdf7a-4bd0-47bf-b757-291a0558679c",
   "metadata": {},
   "outputs": [],
   "source": [
    "Q1=np.percentile(data,25)\n",
    "Q3=np.percentile(data,75)"
   ]
  },
  {
   "cell_type": "code",
   "execution_count": 6,
   "id": "f1416a34-711e-4270-9b6c-bcc1115ed626",
   "metadata": {},
   "outputs": [
    {
     "data": {
      "text/plain": [
       "2.0"
      ]
     },
     "execution_count": 6,
     "metadata": {},
     "output_type": "execute_result"
    }
   ],
   "source": [
    "Q3-Q1"
   ]
  },
  {
   "cell_type": "code",
   "execution_count": null,
   "id": "23db3ea3-cc97-4770-b165-55a40ae994c1",
   "metadata": {},
   "outputs": [],
   "source": []
  }
 ],
 "metadata": {
  "kernelspec": {
   "display_name": "Python 3 (ipykernel)",
   "language": "python",
   "name": "python3"
  },
  "language_info": {
   "codemirror_mode": {
    "name": "ipython",
    "version": 3
   },
   "file_extension": ".py",
   "mimetype": "text/x-python",
   "name": "python",
   "nbconvert_exporter": "python",
   "pygments_lexer": "ipython3",
   "version": "3.12.4"
  }
 },
 "nbformat": 4,
 "nbformat_minor": 5
}
