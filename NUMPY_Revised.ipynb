{
 "cells": [
  {
   "cell_type": "code",
   "execution_count": 1,
   "id": "c18a5fb5-46df-445d-bade-b6b8c6d59d96",
   "metadata": {},
   "outputs": [],
   "source": [
    "import numpy as np\n"
   ]
  },
  {
   "cell_type": "code",
   "execution_count": 7,
   "id": "2aadcc7e-f917-4a75-a6ac-216055e7f70f",
   "metadata": {},
   "outputs": [],
   "source": [
    "from time import process_time"
   ]
  },
  {
   "cell_type": "code",
   "execution_count": 25,
   "id": "c12e91d9-da63-458d-947e-2250c7c33b2c",
   "metadata": {},
   "outputs": [
    {
     "name": "stdout",
     "output_type": "stream",
     "text": [
      "0.0\n"
     ]
    }
   ],
   "source": [
    "python_list=[i for i in range(10000)]\n",
    "start_time=process_time()\n",
    "python_list=[i+5 for i in python_list]\n",
    "end_time=process_time()\n",
    "print(end_time-start_time)"
   ]
  },
  {
   "cell_type": "code",
   "execution_count": 35,
   "id": "44e62412-d4cc-4777-993a-c46227c17da8",
   "metadata": {},
   "outputs": [
    {
     "name": "stdout",
     "output_type": "stream",
     "text": [
      "0.0\n"
     ]
    }
   ],
   "source": [
    "np_array=np.array([i for i in range(10000)])\n",
    "start_time=process_time()\n",
    "np_array += 5\n",
    "end_time=process_time()\n",
    "print(end_time-start_time)"
   ]
  },
  {
   "cell_type": "code",
   "execution_count": 41,
   "id": "b8e5576e-09d9-4cff-8ccb-6aafeda3f041",
   "metadata": {},
   "outputs": [
    {
     "name": "stdout",
     "output_type": "stream",
     "text": [
      "[1, 2, 3, 4, 5]\n"
     ]
    },
    {
     "data": {
      "text/plain": [
       "list"
      ]
     },
     "execution_count": 41,
     "metadata": {},
     "output_type": "execute_result"
    }
   ],
   "source": [
    "list1=[1,2,3,4,5]\n",
    "print(list1)\n",
    "type(list1)"
   ]
  },
  {
   "cell_type": "code",
   "execution_count": 45,
   "id": "c9bdd2da-d1e9-4a7c-8da7-781754c2871e",
   "metadata": {},
   "outputs": [
    {
     "name": "stdout",
     "output_type": "stream",
     "text": [
      "[1 2 3 4 5]\n"
     ]
    },
    {
     "data": {
      "text/plain": [
       "numpy.ndarray"
      ]
     },
     "execution_count": 45,
     "metadata": {},
     "output_type": "execute_result"
    }
   ],
   "source": [
    "np_array=np.array([1,2,3,4,5])\n",
    "print(np_array)\n",
    "type(np_array)"
   ]
  },
  {
   "cell_type": "code",
   "execution_count": 51,
   "id": "17d201e0-8d5f-4bb4-96d7-4d615e674f0f",
   "metadata": {},
   "outputs": [
    {
     "name": "stdout",
     "output_type": "stream",
     "text": [
      "[1 2 3 4]\n"
     ]
    }
   ],
   "source": [
    "#Creating a 1D array\n",
    "a=np.array([1,2,3,4])\n",
    "print(a)\n"
   ]
  },
  {
   "cell_type": "code",
   "execution_count": 55,
   "id": "1d69442a-0981-4b57-b898-c99d3b8ff06c",
   "metadata": {},
   "outputs": [
    {
     "data": {
      "text/plain": [
       "(4,)"
      ]
     },
     "execution_count": 55,
     "metadata": {},
     "output_type": "execute_result"
    }
   ],
   "source": [
    "a.shape #4 represents no of columns"
   ]
  },
  {
   "cell_type": "code",
   "execution_count": 63,
   "id": "8c7d34fb-0ca2-4226-b2ff-eba21ccdff68",
   "metadata": {},
   "outputs": [
    {
     "name": "stdout",
     "output_type": "stream",
     "text": [
      "[[1 2 3 4]\n",
      " [5 6 7 8]]\n"
     ]
    }
   ],
   "source": [
    "#2D array\n",
    "b=np.array([[1,2,3,4],[5,6,7,8]]) #similar to 2x4 matrix\n",
    "print(b)"
   ]
  },
  {
   "cell_type": "code",
   "execution_count": 65,
   "id": "68ea9de8-f788-4419-9448-9d3989e708db",
   "metadata": {},
   "outputs": [
    {
     "data": {
      "text/plain": [
       "(2, 4)"
      ]
     },
     "execution_count": 65,
     "metadata": {},
     "output_type": "execute_result"
    }
   ],
   "source": [
    "b.shape"
   ]
  },
  {
   "cell_type": "code",
   "execution_count": 67,
   "id": "083e8c5a-1280-40d4-9101-9b48584dac5a",
   "metadata": {},
   "outputs": [],
   "source": [
    "#2D array with float\n",
    "c=np.array([(1,2,3,4),(5,6,7,8)],dtype=float)"
   ]
  },
  {
   "cell_type": "code",
   "execution_count": 69,
   "id": "3c2a72b5-b745-4892-8f4b-2dc9ad69ed26",
   "metadata": {},
   "outputs": [
    {
     "name": "stdout",
     "output_type": "stream",
     "text": [
      "[[1. 2. 3. 4.]\n",
      " [5. 6. 7. 8.]]\n"
     ]
    }
   ],
   "source": [
    "print(c)"
   ]
  },
  {
   "cell_type": "code",
   "execution_count": 73,
   "id": "20d9fed9-3f31-4928-aa34-793ccc241298",
   "metadata": {},
   "outputs": [
    {
     "name": "stdout",
     "output_type": "stream",
     "text": [
      "[[0. 0. 0. 0. 0.]\n",
      " [0. 0. 0. 0. 0.]\n",
      " [0. 0. 0. 0. 0.]\n",
      " [0. 0. 0. 0. 0.]]\n"
     ]
    }
   ],
   "source": [
    "#Initial placeholders in numpy arrays\n",
    "#create numpy array of zeros\n",
    "x=np.zeros((4,5))\n",
    "print(x)"
   ]
  },
  {
   "cell_type": "code",
   "execution_count": 79,
   "id": "127d41b7-12ce-41d4-b227-52284e02285d",
   "metadata": {},
   "outputs": [
    {
     "name": "stdout",
     "output_type": "stream",
     "text": [
      "[[1. 1. 1.]\n",
      " [1. 1. 1.]\n",
      " [1. 1. 1.]]\n"
     ]
    }
   ],
   "source": [
    "#create numpy array of ones\n",
    "y=np.ones((3,3))\n",
    "print(y)"
   ]
  },
  {
   "cell_type": "code",
   "execution_count": 83,
   "id": "c2dbf607-ee2b-463d-af7f-4b1655b8b563",
   "metadata": {},
   "outputs": [
    {
     "name": "stdout",
     "output_type": "stream",
     "text": [
      "[[5 5 5 5]\n",
      " [5 5 5 5]\n",
      " [5 5 5 5]\n",
      " [5 5 5 5]\n",
      " [5 5 5 5]]\n"
     ]
    }
   ],
   "source": [
    "# create an array of particular value\n",
    "z=np.full((5,4),5)# 5x4 mattrix with all values 5\n",
    "print(z)"
   ]
  },
  {
   "cell_type": "code",
   "execution_count": 89,
   "id": "99b0952a-6acc-485e-b7ec-6658395e60c7",
   "metadata": {},
   "outputs": [
    {
     "name": "stdout",
     "output_type": "stream",
     "text": [
      "[[1. 0. 0. 0.]\n",
      " [0. 1. 0. 0.]\n",
      " [0. 0. 1. 0.]\n",
      " [0. 0. 0. 1.]]\n"
     ]
    }
   ],
   "source": [
    "#create an identity matrix\n",
    "c=np.eye(4)#specify shape 4x4\n",
    "print(c)"
   ]
  },
  {
   "cell_type": "code",
   "execution_count": 99,
   "id": "ec73bfe5-3a62-4b93-873c-54abc49487c8",
   "metadata": {},
   "outputs": [
    {
     "name": "stdout",
     "output_type": "stream",
     "text": [
      "[[0.62658693 0.88451231 0.00907587 0.67799843]\n",
      " [0.88858188 0.97721773 0.7393612  0.19157971]\n",
      " [0.8504422  0.57280153 0.18959825 0.30423733]]\n"
     ]
    }
   ],
   "source": [
    "#create numpy array with random values\n",
    "d=np.random.random((3,4))\n",
    "print(d)# here we get value between 0 and 1"
   ]
  },
  {
   "cell_type": "code",
   "execution_count": 107,
   "id": "a2c25941-bb5d-4b82-9d04-a6954db0436d",
   "metadata": {},
   "outputs": [
    {
     "name": "stdout",
     "output_type": "stream",
     "text": [
      "[[40 20 11 14 42]\n",
      " [52 54 14 90 95]\n",
      " [97 35 89 85 98]]\n"
     ]
    }
   ],
   "source": [
    "#array with random int valueswithin a specific range\n",
    "e= np.random.randint(10,100,(3,5))\n",
    "print(e)\n"
   ]
  },
  {
   "cell_type": "code",
   "execution_count": 115,
   "id": "2ec3fec8-3a5b-46b8-90df-ab41d39df9eb",
   "metadata": {},
   "outputs": [
    {
     "name": "stdout",
     "output_type": "stream",
     "text": [
      "[10. 15. 20. 25. 30.]\n"
     ]
    }
   ],
   "source": [
    "#array of evenly spaced values, #Specifying the number of values required\n",
    "f=np.linspace(10,30,5)\n",
    "print(f) # here we get 5 values"
   ]
  },
  {
   "cell_type": "code",
   "execution_count": 119,
   "id": "7a791e6f-e613-4ad9-adf5-808a5f9636d8",
   "metadata": {},
   "outputs": [
    {
     "data": {
      "text/plain": [
       "array([10., 14., 18., 22., 26., 30.])"
      ]
     },
     "execution_count": 119,
     "metadata": {},
     "output_type": "execute_result"
    }
   ],
   "source": [
    "f=np.linspace(10,30,6)\n",
    "f"
   ]
  },
  {
   "cell_type": "code",
   "execution_count": 127,
   "id": "c24896fa-7666-44d0-adbe-b72c93ab677d",
   "metadata": {},
   "outputs": [
    {
     "data": {
      "text/plain": [
       "array([10., 20., 30.])"
      ]
     },
     "execution_count": 127,
     "metadata": {},
     "output_type": "execute_result"
    }
   ],
   "source": [
    "f=np.linspace(10,30,3)\n",
    "f"
   ]
  },
  {
   "cell_type": "code",
   "execution_count": 129,
   "id": "9b05f730-f587-4c57-b14f-e9a15ad21ca6",
   "metadata": {},
   "outputs": [
    {
     "data": {
      "text/plain": [
       "array([10, 11, 12, 13, 14, 15, 16, 17, 18, 19, 20, 21, 22, 23, 24, 25, 26,\n",
       "       27, 28, 29])"
      ]
     },
     "execution_count": 129,
     "metadata": {},
     "output_type": "execute_result"
    }
   ],
   "source": [
    "g=np.arange(10,30)\n",
    "g"
   ]
  },
  {
   "cell_type": "code",
   "execution_count": 135,
   "id": "dd69d76c-80ca-4c04-b175-280337304174",
   "metadata": {},
   "outputs": [
    {
     "data": {
      "text/plain": [
       "array([10, 12, 14, 16, 18, 20, 22, 24, 26, 28])"
      ]
     },
     "execution_count": 135,
     "metadata": {},
     "output_type": "execute_result"
    }
   ],
   "source": [
    "g=np.arange(10,30,2)#2 step size similar to range() of list\n",
    "g"
   ]
  },
  {
   "cell_type": "code",
   "execution_count": 143,
   "id": "907344c5-efa4-4b49-960e-46f9778722cb",
   "metadata": {},
   "outputs": [
    {
     "name": "stdout",
     "output_type": "stream",
     "text": [
      "[1 2 3 4]\n",
      "<class 'numpy.ndarray'>\n"
     ]
    }
   ],
   "source": [
    "#convert a list to a numpy array\n",
    "list1=[1,2,3,4]\n",
    "np_array=np.asarray(list1)#to covert one datatype to numpy array\n",
    "print(np_array)\n",
    "print(type(np_array))"
   ]
  },
  {
   "cell_type": "code",
   "execution_count": 145,
   "id": "c48e2748-be1a-4f84-9faa-6dbde03ae784",
   "metadata": {},
   "outputs": [],
   "source": [
    "#Analysing numpy array\n"
   ]
  },
  {
   "cell_type": "code",
   "execution_count": 149,
   "id": "41ab3432-0160-463b-bbb9-9a14f1647b9c",
   "metadata": {},
   "outputs": [
    {
     "name": "stdout",
     "output_type": "stream",
     "text": [
      "[[56 59 88 38 17]\n",
      " [68 81 64 41 83]\n",
      " [50 17 50 68 23]\n",
      " [75 62 82 30 74]\n",
      " [29 16 81 25 76]]\n"
     ]
    }
   ],
   "source": [
    "c=np.random.randint(10,90,(5,5))\n",
    "print(c)"
   ]
  },
  {
   "cell_type": "code",
   "execution_count": 153,
   "id": "75c273a2-f95c-42f2-be0a-68683e0c9ea7",
   "metadata": {},
   "outputs": [
    {
     "data": {
      "text/plain": [
       "(5, 5)"
      ]
     },
     "execution_count": 153,
     "metadata": {},
     "output_type": "execute_result"
    }
   ],
   "source": [
    "c.shape#array dimension"
   ]
  },
  {
   "cell_type": "code",
   "execution_count": 155,
   "id": "badb8015-831e-42d7-acac-b205bad3b6c1",
   "metadata": {},
   "outputs": [
    {
     "data": {
      "text/plain": [
       "2"
      ]
     },
     "execution_count": 155,
     "metadata": {},
     "output_type": "execute_result"
    }
   ],
   "source": [
    "#Number of dimension\n",
    "c.ndim"
   ]
  },
  {
   "cell_type": "code",
   "execution_count": 157,
   "id": "94158f26-9eff-4ace-b5bc-973f2c45d163",
   "metadata": {},
   "outputs": [
    {
     "data": {
      "text/plain": [
       "25"
      ]
     },
     "execution_count": 157,
     "metadata": {},
     "output_type": "execute_result"
    }
   ],
   "source": [
    "#number of elements in an array\n",
    "c.size"
   ]
  },
  {
   "cell_type": "code",
   "execution_count": 159,
   "id": "b0089f36-8caa-45f9-81b5-6045aecdcc99",
   "metadata": {},
   "outputs": [
    {
     "data": {
      "text/plain": [
       "dtype('int32')"
      ]
     },
     "execution_count": 159,
     "metadata": {},
     "output_type": "execute_result"
    }
   ],
   "source": [
    "#The datatype of values in the array\n",
    "c.dtype"
   ]
  },
  {
   "cell_type": "code",
   "execution_count": 161,
   "id": "75ada060-a6fa-4128-b40c-793e5f46924c",
   "metadata": {},
   "outputs": [],
   "source": [
    "#Mathematical operations on numpy array"
   ]
  },
  {
   "cell_type": "code",
   "execution_count": 163,
   "id": "391a318f-7e54-429f-ac78-b22f2251ffec",
   "metadata": {},
   "outputs": [
    {
     "name": "stdout",
     "output_type": "stream",
     "text": [
      "[1, 2, 3, 4, 5, 6, 7, 8, 9, 10]\n"
     ]
    }
   ],
   "source": [
    "list1=[1,2,3,4,5]\n",
    "list2=[6,7,8,9,10]\n",
    "print(list1+list2)"
   ]
  },
  {
   "cell_type": "markdown",
   "id": "0a802d38-105c-42f6-9b0e-e4e2c1ed2966",
   "metadata": {},
   "source": [
    "Concatenated the lists"
   ]
  },
  {
   "cell_type": "code",
   "execution_count": 167,
   "id": "cf8da74d-91c4-4c91-96d5-1fa0b02d2661",
   "metadata": {},
   "outputs": [],
   "source": [
    "a=np.random.randint(0,10,(3,3))\n",
    "b=np.random.randint(10,20,(3,3))\n"
   ]
  },
  {
   "cell_type": "code",
   "execution_count": 169,
   "id": "ca7a2762-8c49-48f0-b4d8-7c4b2fd3b11d",
   "metadata": {},
   "outputs": [
    {
     "name": "stdout",
     "output_type": "stream",
     "text": [
      "[[1 3 5]\n",
      " [8 6 0]\n",
      " [6 4 2]]\n",
      "[[15 10 18]\n",
      " [11 19 17]\n",
      " [12 11 10]]\n"
     ]
    }
   ],
   "source": [
    "print(a)\n",
    "print(b)"
   ]
  },
  {
   "cell_type": "code",
   "execution_count": 173,
   "id": "0ecad904-ea2b-4cbc-9f6b-8f07a41afac2",
   "metadata": {},
   "outputs": [
    {
     "name": "stdout",
     "output_type": "stream",
     "text": [
      "[[16 13 23]\n",
      " [19 25 17]\n",
      " [18 15 12]]\n"
     ]
    }
   ],
   "source": [
    "print(a+b)#elementwise  adddition"
   ]
  },
  {
   "cell_type": "code",
   "execution_count": 175,
   "id": "b232b63c-e0d2-43cb-90f2-03fa340863d7",
   "metadata": {},
   "outputs": [
    {
     "name": "stdout",
     "output_type": "stream",
     "text": [
      "[[-14  -7 -13]\n",
      " [ -3 -13 -17]\n",
      " [ -6  -7  -8]]\n",
      "[[ 15  30  90]\n",
      " [ 88 114   0]\n",
      " [ 72  44  20]]\n",
      "[[0.06666667 0.3        0.27777778]\n",
      " [0.72727273 0.31578947 0.        ]\n",
      " [0.5        0.36363636 0.2       ]]\n"
     ]
    }
   ],
   "source": [
    "print(a-b)\n",
    "print(a*b)\n",
    "print(a/b)"
   ]
  },
  {
   "cell_type": "code",
   "execution_count": 177,
   "id": "a37978a8-b18f-461c-97b2-baca63fdacaf",
   "metadata": {},
   "outputs": [
    {
     "name": "stdout",
     "output_type": "stream",
     "text": [
      "[[16 13 23]\n",
      " [19 25 17]\n",
      " [18 15 12]]\n"
     ]
    }
   ],
   "source": [
    "print(np.add(a,b))"
   ]
  },
  {
   "cell_type": "code",
   "execution_count": 179,
   "id": "d59e0252-89d9-4b6d-b1ce-e5a881b6d323",
   "metadata": {},
   "outputs": [
    {
     "name": "stdout",
     "output_type": "stream",
     "text": [
      "[[-14  -7 -13]\n",
      " [ -3 -13 -17]\n",
      " [ -6  -7  -8]]\n"
     ]
    }
   ],
   "source": [
    "print(np.subtract(a,b))"
   ]
  },
  {
   "cell_type": "code",
   "execution_count": 181,
   "id": "663d7120-0656-42c2-9e86-26fdfaa25081",
   "metadata": {},
   "outputs": [
    {
     "name": "stdout",
     "output_type": "stream",
     "text": [
      "[[ 15  30  90]\n",
      " [ 88 114   0]\n",
      " [ 72  44  20]]\n"
     ]
    }
   ],
   "source": [
    "print(np.multiply(a,b))"
   ]
  },
  {
   "cell_type": "code",
   "execution_count": 183,
   "id": "1310d827-9ec9-45f6-b9ba-7693bb6b2c07",
   "metadata": {},
   "outputs": [
    {
     "name": "stdout",
     "output_type": "stream",
     "text": [
      "[[0.06666667 0.3        0.27777778]\n",
      " [0.72727273 0.31578947 0.        ]\n",
      " [0.5        0.36363636 0.2       ]]\n"
     ]
    }
   ],
   "source": [
    "print(np.divide(a,b))"
   ]
  },
  {
   "cell_type": "code",
   "execution_count": 185,
   "id": "e02024d9-b6db-4047-828a-1dd38ddc1faf",
   "metadata": {},
   "outputs": [],
   "source": [
    "#Array Manupulation"
   ]
  },
  {
   "cell_type": "code",
   "execution_count": 187,
   "id": "86a34ac6-76e8-45ca-8673-e37bb256e9d1",
   "metadata": {},
   "outputs": [],
   "source": [
    "array=np.random.randint(0,10,(2,3))"
   ]
  },
  {
   "cell_type": "code",
   "execution_count": 189,
   "id": "30c91fa6-f4ea-44d2-bb71-54070b5e2988",
   "metadata": {},
   "outputs": [
    {
     "name": "stdout",
     "output_type": "stream",
     "text": [
      "[[5 1 1]\n",
      " [8 4 1]]\n"
     ]
    }
   ],
   "source": [
    "print(array)"
   ]
  },
  {
   "cell_type": "code",
   "execution_count": 191,
   "id": "ab95210f-4a7e-40d9-9864-2c351bdea026",
   "metadata": {},
   "outputs": [
    {
     "name": "stdout",
     "output_type": "stream",
     "text": [
      "[[5 8]\n",
      " [1 4]\n",
      " [1 1]]\n",
      "(3, 2)\n"
     ]
    }
   ],
   "source": [
    "trans=np.transpose(array)\n",
    "print(trans)\n",
    "print(trans.shape)"
   ]
  },
  {
   "cell_type": "code",
   "execution_count": 193,
   "id": "5fa85a54-6d66-44f5-bcca-7d560cdd0ec6",
   "metadata": {},
   "outputs": [
    {
     "name": "stdout",
     "output_type": "stream",
     "text": [
      "[[5 8]\n",
      " [1 4]\n",
      " [1 1]]\n"
     ]
    }
   ],
   "source": [
    "trans2=array.T\n",
    "print(trans2)"
   ]
  },
  {
   "cell_type": "code",
   "execution_count": 195,
   "id": "d28c28e2-528a-4758-b2c4-f0f7d7b0795a",
   "metadata": {},
   "outputs": [
    {
     "name": "stdout",
     "output_type": "stream",
     "text": [
      "[[6 3 6]\n",
      " [2 0 5]]\n",
      "(2, 3)\n"
     ]
    }
   ],
   "source": [
    "#Reshaping the arrray\n",
    "a=np.random.randint(0,10,(2,3))\n",
    "print(a)\n",
    "print(a.shape)"
   ]
  },
  {
   "cell_type": "code",
   "execution_count": 197,
   "id": "a6f5fb99-052c-4035-b136-f6a4a0e214cc",
   "metadata": {},
   "outputs": [],
   "source": [
    "b=a.reshape(3,2)"
   ]
  },
  {
   "cell_type": "code",
   "execution_count": 199,
   "id": "681b3d0f-81b9-4b6e-8b17-5e724983a616",
   "metadata": {},
   "outputs": [
    {
     "name": "stdout",
     "output_type": "stream",
     "text": [
      "[[6 3]\n",
      " [6 2]\n",
      " [0 5]]\n",
      "(3, 2)\n"
     ]
    }
   ],
   "source": [
    "print(b)\n",
    "print(b.shape)"
   ]
  },
  {
   "cell_type": "code",
   "execution_count": null,
   "id": "09b322fa-aa9a-4947-bd07-1b4e0c1edace",
   "metadata": {},
   "outputs": [],
   "source": []
  }
 ],
 "metadata": {
  "kernelspec": {
   "display_name": "Python 3 (ipykernel)",
   "language": "python",
   "name": "python3"
  },
  "language_info": {
   "codemirror_mode": {
    "name": "ipython",
    "version": 3
   },
   "file_extension": ".py",
   "mimetype": "text/x-python",
   "name": "python",
   "nbconvert_exporter": "python",
   "pygments_lexer": "ipython3",
   "version": "3.12.4"
  }
 },
 "nbformat": 4,
 "nbformat_minor": 5
}
