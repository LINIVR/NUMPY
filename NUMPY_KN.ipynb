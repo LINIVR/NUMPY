{
 "cells": [
  {
   "cell_type": "code",
   "execution_count": 1,
   "id": "9ad6ff66-a63c-4b65-895e-09d608970482",
   "metadata": {},
   "outputs": [],
   "source": [
    "import numpy as np"
   ]
  },
  {
   "cell_type": "code",
   "execution_count": 3,
   "id": "365c7aeb-ab18-40ba-9b53-0c10e547eb4e",
   "metadata": {},
   "outputs": [],
   "source": [
    "##create arrays using numpys\n",
    "##Create 1D array\n",
    "arr1=np.array([1,2,3,4,5])"
   ]
  },
  {
   "cell_type": "code",
   "execution_count": 5,
   "id": "e8ef8766-500a-4fac-acd3-e36553c9c33b",
   "metadata": {},
   "outputs": [
    {
     "name": "stdout",
     "output_type": "stream",
     "text": [
      "<class 'numpy.ndarray'>\n",
      "(5,)\n"
     ]
    }
   ],
   "source": [
    "print(type(arr1))\n",
    "print(arr1.shape)# #say 1D array with 5 elemnts ,neversay 1row with 5 columns"
   ]
  },
  {
   "cell_type": "code",
   "execution_count": 16,
   "id": "e68f01d0-29a3-4428-b169-b1122954616f",
   "metadata": {},
   "outputs": [
    {
     "name": "stdout",
     "output_type": "stream",
     "text": [
      "[[1 2 3 4 5]]\n"
     ]
    }
   ],
   "source": [
    "arr2=np.array([1,2,3,4,5])\n",
    "arr2=arr2.reshape(1,5)# reshaping this 1D array into 1 rows and two columns then it is converted into 2D array\n",
    "print(arr2)"
   ]
  },
  {
   "cell_type": "markdown",
   "id": "d9bf1322-a05e-445e-ae0b-f52e4c12e696",
   "metadata": {},
   "source": [
    "2 square bracket mens 2D array"
   ]
  },
  {
   "cell_type": "code",
   "execution_count": 18,
   "id": "7af752c3-572d-4940-bb03-e95eb6c66429",
   "metadata": {},
   "outputs": [
    {
     "name": "stdout",
     "output_type": "stream",
     "text": [
      "2\n"
     ]
    }
   ],
   "source": [
    "print(arr2.ndim)"
   ]
  },
  {
   "cell_type": "code",
   "execution_count": 20,
   "id": "844fa268-5073-4294-9ce0-c364beda95f7",
   "metadata": {},
   "outputs": [],
   "source": [
    "arr3=np.array([[1,2,3,4,5]])"
   ]
  },
  {
   "cell_type": "code",
   "execution_count": 24,
   "id": "fb779a79-2c8f-48ae-82c1-e185d8e82260",
   "metadata": {},
   "outputs": [
    {
     "name": "stdout",
     "output_type": "stream",
     "text": [
      "(1, 5)\n"
     ]
    }
   ],
   "source": [
    "print(arr3.shape)"
   ]
  },
  {
   "cell_type": "code",
   "execution_count": 26,
   "id": "1c40d99a-1af4-4610-8fde-c9489426c654",
   "metadata": {},
   "outputs": [
    {
     "name": "stdout",
     "output_type": "stream",
     "text": [
      "2\n"
     ]
    }
   ],
   "source": [
    "print(arr3.ndim)"
   ]
  },
  {
   "cell_type": "code",
   "execution_count": 28,
   "id": "dedab1c2-019a-48bd-b2f0-7c109f7ba497",
   "metadata": {},
   "outputs": [],
   "source": [
    "arr4=np.array([[1,2,3,4,5],[2,3,4,5,6]])"
   ]
  },
  {
   "cell_type": "code",
   "execution_count": 30,
   "id": "fb42b0ae-2fa6-4dea-b525-aaa210d0039a",
   "metadata": {},
   "outputs": [
    {
     "name": "stdout",
     "output_type": "stream",
     "text": [
      "[[1 2 3 4 5]\n",
      " [2 3 4 5 6]]\n"
     ]
    }
   ],
   "source": [
    "print(arr4)"
   ]
  },
  {
   "cell_type": "code",
   "execution_count": 32,
   "id": "c342a21a-1498-46a7-95b1-e709653e8264",
   "metadata": {},
   "outputs": [
    {
     "name": "stdout",
     "output_type": "stream",
     "text": [
      "2\n"
     ]
    }
   ],
   "source": [
    "print(arr4.ndim)"
   ]
  },
  {
   "cell_type": "code",
   "execution_count": 46,
   "id": "f8e0e981-18ab-487a-8624-c1f990fbb59d",
   "metadata": {},
   "outputs": [
    {
     "name": "stdout",
     "output_type": "stream",
     "text": [
      "int32\n"
     ]
    }
   ],
   "source": [
    "print(arr4.dtype)# may vary based on platform"
   ]
  },
  {
   "cell_type": "code",
   "execution_count": 52,
   "id": "b8f5dce0-a7c6-4e2c-bf64-42956130eb76",
   "metadata": {},
   "outputs": [
    {
     "name": "stdout",
     "output_type": "stream",
     "text": [
      "10\n"
     ]
    }
   ],
   "source": [
    "print(arr4.size)# total number of elemnts"
   ]
  },
  {
   "cell_type": "code",
   "execution_count": 57,
   "id": "2f214f1e-57a0-4dac-a35d-404aaeba04d0",
   "metadata": {},
   "outputs": [
    {
     "name": "stdout",
     "output_type": "stream",
     "text": [
      "4\n"
     ]
    }
   ],
   "source": [
    "print(arr4.itemsize) #based on platform in bytes"
   ]
  },
  {
   "cell_type": "raw",
   "id": "c7459a9a-ddb8-45d9-ba5f-7d85ba807c84",
   "metadata": {},
   "source": []
  },
  {
   "cell_type": "code",
   "execution_count": 36,
   "id": "55e1be15-24a0-44b4-9452-aef7343be0dd",
   "metadata": {},
   "outputs": [
    {
     "data": {
      "text/plain": [
       "array([[0],\n",
       "       [2],\n",
       "       [4],\n",
       "       [6],\n",
       "       [8]])"
      ]
     },
     "execution_count": 36,
     "metadata": {},
     "output_type": "execute_result"
    }
   ],
   "source": [
    "np.arange(0,10,2).reshape(5,1)"
   ]
  },
  {
   "cell_type": "code",
   "execution_count": 38,
   "id": "6f99e530-55a2-4d4e-8e83-85b5ce8fe42c",
   "metadata": {},
   "outputs": [
    {
     "data": {
      "text/plain": [
       "array([[1., 1., 1., 1.],\n",
       "       [1., 1., 1., 1.],\n",
       "       [1., 1., 1., 1.]])"
      ]
     },
     "execution_count": 38,
     "metadata": {},
     "output_type": "execute_result"
    }
   ],
   "source": [
    "np.ones((3,4))"
   ]
  },
  {
   "cell_type": "code",
   "execution_count": 42,
   "id": "c131cc60-ff4d-408c-b338-656c1288ef10",
   "metadata": {},
   "outputs": [
    {
     "data": {
      "text/plain": [
       "array([[1., 0., 0.],\n",
       "       [0., 1., 0.],\n",
       "       [0., 0., 1.]])"
      ]
     },
     "execution_count": 42,
     "metadata": {},
     "output_type": "execute_result"
    }
   ],
   "source": [
    "##Identity matrix\n",
    "np.eye(3)"
   ]
  },
  {
   "cell_type": "markdown",
   "id": "6b32c1e4-d714-45c0-b98d-975890ffef97",
   "metadata": {},
   "source": [
    "## Numpy vectorized Operations"
   ]
  },
  {
   "cell_type": "code",
   "execution_count": 63,
   "id": "c47a4313-db19-4692-af91-011df90186cf",
   "metadata": {},
   "outputs": [
    {
     "name": "stdout",
     "output_type": "stream",
     "text": [
      "[11 22 33 44 55]\n"
     ]
    }
   ],
   "source": [
    "arr1=np.array([1,2,3,4,5])\n",
    "arr2=np.array([10,20,30,40,50])\n",
    "print(arr1+arr2) #Addition"
   ]
  },
  {
   "cell_type": "code",
   "execution_count": 65,
   "id": "d61a3029-0231-45af-ac0f-df141887f9d4",
   "metadata": {},
   "outputs": [
    {
     "name": "stdout",
     "output_type": "stream",
     "text": [
      "[ -9 -18 -27 -36 -45]\n"
     ]
    }
   ],
   "source": [
    "print(arr1-arr2)"
   ]
  },
  {
   "cell_type": "code",
   "execution_count": 71,
   "id": "9aa4fb64-ff33-49d8-a62a-e1bc09ed31d2",
   "metadata": {},
   "outputs": [
    {
     "name": "stdout",
     "output_type": "stream",
     "text": [
      "[ 10  40  90 160 250]\n"
     ]
    }
   ],
   "source": [
    "arr=arr1*arr2\n",
    "print(arr)"
   ]
  },
  {
   "cell_type": "code",
   "execution_count": 81,
   "id": "af8448f9-549f-4290-8c87-c59d148c3a45",
   "metadata": {},
   "outputs": [
    {
     "name": "stdout",
     "output_type": "stream",
     "text": [
      "[0.1 0.1 0.1 0.1 0.1]\n"
     ]
    }
   ],
   "source": [
    "print(arr1/arr2)"
   ]
  },
  {
   "cell_type": "markdown",
   "id": "2ee13977-2497-439c-aaaa-8de7ad181460",
   "metadata": {},
   "source": [
    "## universal Function(ufunc)"
   ]
  },
  {
   "cell_type": "code",
   "execution_count": 99,
   "id": "55022a68-007b-4fb0-a990-f89ee49eb611",
   "metadata": {},
   "outputs": [],
   "source": [
    "arr=np.array([1,2,3,4,5]) # applying these functions to each elemnt in the array"
   ]
  },
  {
   "cell_type": "code",
   "execution_count": 91,
   "id": "67316053-14c3-4682-9312-5e1a13104a6c",
   "metadata": {},
   "outputs": [
    {
     "name": "stdout",
     "output_type": "stream",
     "text": [
      "[1.         1.41421356 1.73205081 2.         2.23606798]\n"
     ]
    }
   ],
   "source": [
    "print(np.sqrt(arr))"
   ]
  },
  {
   "cell_type": "code",
   "execution_count": 93,
   "id": "93f95537-7b31-421e-a89a-1db69d9a51dc",
   "metadata": {},
   "outputs": [
    {
     "name": "stdout",
     "output_type": "stream",
     "text": [
      "[  2.71828183   7.3890561   20.08553692  54.59815003 148.4131591 ]\n"
     ]
    }
   ],
   "source": [
    "print(np.exp(arr))"
   ]
  },
  {
   "cell_type": "code",
   "execution_count": 95,
   "id": "caeed956-5ebc-4112-b1e2-32c9f2b0285d",
   "metadata": {},
   "outputs": [
    {
     "name": "stdout",
     "output_type": "stream",
     "text": [
      "[ 0.84147098  0.90929743  0.14112001 -0.7568025  -0.95892427]\n"
     ]
    }
   ],
   "source": [
    "print(np.sin(arr))"
   ]
  },
  {
   "cell_type": "code",
   "execution_count": 97,
   "id": "c2c451e6-0d16-477c-8db8-b79eede456e0",
   "metadata": {},
   "outputs": [
    {
     "name": "stdout",
     "output_type": "stream",
     "text": [
      "[0.         0.69314718 1.09861229 1.38629436 1.60943791]\n"
     ]
    }
   ],
   "source": [
    "print(np.log(arr))"
   ]
  },
  {
   "cell_type": "markdown",
   "id": "f9248d45-5517-4bb1-9b67-8cf222c6247d",
   "metadata": {},
   "source": [
    "## Array Slicing and Indexing"
   ]
  },
  {
   "cell_type": "code",
   "execution_count": 105,
   "id": "24f3cc3a-97ab-4feb-b6be-1f1a3d539424",
   "metadata": {},
   "outputs": [
    {
     "name": "stdout",
     "output_type": "stream",
     "text": [
      "[[ 1  2  3  4]\n",
      " [ 5  6  7  8]\n",
      " [ 9 10 11 12]]\n"
     ]
    }
   ],
   "source": [
    "arr=np.array([[1,2,3,4],[5,6,7,8],[9,10,11,12]])\n",
    "print(arr)"
   ]
  },
  {
   "cell_type": "code",
   "execution_count": 107,
   "id": "9d808254-53b4-4ed3-8a2e-4daa447e80a6",
   "metadata": {},
   "outputs": [
    {
     "data": {
      "text/plain": [
       "array([1, 2, 3, 4])"
      ]
     },
     "execution_count": 107,
     "metadata": {},
     "output_type": "execute_result"
    }
   ],
   "source": [
    "arr[0] #will givw 0th row"
   ]
  },
  {
   "cell_type": "code",
   "execution_count": 113,
   "id": "ef7dd2b9-1893-44d5-86a8-c18f4af3fc56",
   "metadata": {},
   "outputs": [
    {
     "data": {
      "text/plain": [
       "1"
      ]
     },
     "execution_count": 113,
     "metadata": {},
     "output_type": "execute_result"
    }
   ],
   "source": [
    "arr[0][0] #0throw andd 0th column"
   ]
  },
  {
   "cell_type": "code",
   "execution_count": 119,
   "id": "6206d6d5-7efd-4a24-994a-ed1ade53086b",
   "metadata": {},
   "outputs": [
    {
     "data": {
      "text/plain": [
       "array([[ 7,  8],\n",
       "       [11, 12]])"
      ]
     },
     "execution_count": 119,
     "metadata": {},
     "output_type": "execute_result"
    }
   ],
   "source": [
    "arr[1:,2:]#will get 1st row to last row and 2nd column to last column"
   ]
  },
  {
   "cell_type": "code",
   "execution_count": 125,
   "id": "5de30675-4ccf-40c6-889d-346eefaf0f3d",
   "metadata": {},
   "outputs": [
    {
     "data": {
      "text/plain": [
       "array([[ 2,  3],\n",
       "       [ 6,  7],\n",
       "       [10, 11]])"
      ]
     },
     "execution_count": 125,
     "metadata": {},
     "output_type": "execute_result"
    }
   ],
   "source": [
    "arr[:,1:3]# to remove 0th and last column"
   ]
  },
  {
   "cell_type": "code",
   "execution_count": 127,
   "id": "931c841e-d390-4548-b50d-da07b80b65da",
   "metadata": {},
   "outputs": [
    {
     "data": {
      "text/plain": [
       "array([[ 5,  6,  7,  8],\n",
       "       [ 9, 10, 11, 12]])"
      ]
     },
     "execution_count": 127,
     "metadata": {},
     "output_type": "execute_result"
    }
   ],
   "source": [
    "arr[1:4,]"
   ]
  },
  {
   "cell_type": "code",
   "execution_count": 129,
   "id": "908afd03-1bf7-425e-aaea-07df833fc596",
   "metadata": {},
   "outputs": [
    {
     "data": {
      "text/plain": [
       "array([[3, 4],\n",
       "       [7, 8]])"
      ]
     },
     "execution_count": 129,
     "metadata": {},
     "output_type": "execute_result"
    }
   ],
   "source": [
    "arr[:2,2:]"
   ]
  },
  {
   "cell_type": "code",
   "execution_count": 131,
   "id": "6792f4e2-b53a-4c24-a096-8fd3395b96ed",
   "metadata": {},
   "outputs": [
    {
     "data": {
      "text/plain": [
       "array([[ 6,  7],\n",
       "       [10, 11]])"
      ]
     },
     "execution_count": 131,
     "metadata": {},
     "output_type": "execute_result"
    }
   ],
   "source": [
    "arr[1:,1:3]"
   ]
  },
  {
   "cell_type": "markdown",
   "id": "1f542583-e273-4dd7-a556-fb4b9757ff92",
   "metadata": {},
   "source": [
    "# Modify array elements"
   ]
  },
  {
   "cell_type": "code",
   "execution_count": 134,
   "id": "29aecd3a-d541-4d9a-8a85-35d352086ced",
   "metadata": {},
   "outputs": [
    {
     "name": "stdout",
     "output_type": "stream",
     "text": [
      "[[100   2   3   4]\n",
      " [  5   6   7   8]\n",
      " [  9  10  11  12]]\n"
     ]
    }
   ],
   "source": [
    "arr[0][0]=100\n",
    "print(arr)"
   ]
  },
  {
   "cell_type": "code",
   "execution_count": 136,
   "id": "fa0493dd-d8a0-4c31-803f-8de4c9f45bd6",
   "metadata": {},
   "outputs": [
    {
     "name": "stdout",
     "output_type": "stream",
     "text": [
      "[[100   2   3   4]\n",
      " [100 100 100 100]\n",
      " [100 100 100 100]]\n"
     ]
    }
   ],
   "source": [
    "arr[1:]=100\n",
    "print(arr)"
   ]
  },
  {
   "cell_type": "markdown",
   "id": "19dc1f08-b1f4-4761-a1d6-81db2237a189",
   "metadata": {},
   "source": [
    "## Statistical concepts-Normalization\n",
    "# to have a mean of 0 and SD of 1"
   ]
  },
  {
   "cell_type": "code",
   "execution_count": 143,
   "id": "a0d5f724-e899-4cf2-9287-6665e2fed18d",
   "metadata": {},
   "outputs": [
    {
     "name": "stdout",
     "output_type": "stream",
     "text": [
      "[-1.41421356 -0.70710678  0.          0.70710678  1.41421356]\n"
     ]
    }
   ],
   "source": [
    "data=np.array([1,2,3,4,5])\n",
    "mean=np.mean(data)\n",
    "std_dv=np.std(data)\n",
    "\n",
    "#Normalize the data\n",
    "normalized_data=(data-mean)/std_dv\n",
    "\n",
    "print(normalized_data)"
   ]
  },
  {
   "cell_type": "markdown",
   "id": "03ce8e75-fa19-4361-ba06-89223b216be5",
   "metadata": {},
   "source": [
    "## Logical operation"
   ]
  },
  {
   "cell_type": "code",
   "execution_count": 148,
   "id": "5a310582-0fb1-4ae3-907b-c64bce04919e",
   "metadata": {},
   "outputs": [],
   "source": [
    "data=np.array([1,2,3,4,5,6,7,8,9])\n"
   ]
  },
  {
   "cell_type": "code",
   "execution_count": 150,
   "id": "f35c8033-6d3d-4454-8c3c-24fc46f85185",
   "metadata": {},
   "outputs": [
    {
     "data": {
      "text/plain": [
       "array([False, False, False, False, False,  True,  True,  True,  True])"
      ]
     },
     "execution_count": 150,
     "metadata": {},
     "output_type": "execute_result"
    }
   ],
   "source": [
    "data>5"
   ]
  },
  {
   "cell_type": "code",
   "execution_count": 152,
   "id": "cb5a5427-066a-46e4-acdb-39c123abd89f",
   "metadata": {},
   "outputs": [
    {
     "data": {
      "text/plain": [
       "array([6, 7, 8, 9])"
      ]
     },
     "execution_count": 152,
     "metadata": {},
     "output_type": "execute_result"
    }
   ],
   "source": [
    "data[data>5]"
   ]
  },
  {
   "cell_type": "code",
   "execution_count": 154,
   "id": "ff3240c5-ee18-49c7-9552-56f22409a89d",
   "metadata": {},
   "outputs": [
    {
     "data": {
      "text/plain": [
       "array([5, 6, 7, 8])"
      ]
     },
     "execution_count": 154,
     "metadata": {},
     "output_type": "execute_result"
    }
   ],
   "source": [
    "data[(data>=5) & (data<=8)]"
   ]
  },
  {
   "cell_type": "code",
   "execution_count": null,
   "id": "5f3d0082-7965-44c7-b5b6-3f57511118ff",
   "metadata": {},
   "outputs": [],
   "source": []
  }
 ],
 "metadata": {
  "kernelspec": {
   "display_name": "Python 3 (ipykernel)",
   "language": "python",
   "name": "python3"
  },
  "language_info": {
   "codemirror_mode": {
    "name": "ipython",
    "version": 3
   },
   "file_extension": ".py",
   "mimetype": "text/x-python",
   "name": "python",
   "nbconvert_exporter": "python",
   "pygments_lexer": "ipython3",
   "version": "3.12.4"
  }
 },
 "nbformat": 4,
 "nbformat_minor": 5
}
